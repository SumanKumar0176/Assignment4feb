{
 "cells": [
  {
   "cell_type": "code",
   "execution_count": null,
   "id": "b188788f-7cd0-4f0c-bd1a-5760a53d0285",
   "metadata": {},
   "outputs": [],
   "source": [
    "Q1. Create a python program to sort the given list of tuples based on integer value using a\n",
    "lambda function.\n",
    "Ans-\n",
    "      my_list = [('Sachin Tendulkar', 34357), ('Ricky Ponting', 27483), ('Jack Kallis', 25534), ('Virat Kohli', 24936)]\n",
    "\n",
    "      sorted_list = sorted(my_list, key=lambda x: x[1], reverse=True)\n",
    "\n",
    "    print(sorted_list)"
   ]
  },
  {
   "cell_type": "code",
   "execution_count": null,
   "id": "50b15bd6-6503-404c-801c-836a4e7de3f0",
   "metadata": {},
   "outputs": [],
   "source": [
    "\n",
    "Q2. Write a Python Program to find the squares of all the numbers in the given list of integers using\n",
    "lambda and map functions.\n",
    "[1, 2, 3, 4, 5, 6, 7, 8, 9, 10]\n",
    "\n",
    "Ans-\n",
    "    numbers = [1, 2, 3, 4, 5, 6, 7, 8, 9, 10]\n",
    "\n",
    "     squares = list(map(lambda x: x**2, numbers))\n",
    "\n",
    "     print(squares)\n"
   ]
  },
  {
   "cell_type": "code",
   "execution_count": null,
   "id": "40f19148-19e5-40f0-b3ac-fb5255a8c908",
   "metadata": {},
   "outputs": [],
   "source": [
    "Q3. Write a python program to convert the given list of integers into a tuple of strings. Use map and\n",
    "lambda functions\n",
    "Given String: [1, 2, 3, 4, 5, 6, 7, 8, 9, 10]\n",
    "Expected output: ('1', '2', '3', '4', '5', '6', '7', '8', '9', '10')\n",
    "\n",
    "Ans-\n",
    "        numbers = [1, 2, 3, 4, 5, 6, 7, 8, 9, 10]\n",
    "\n",
    "        strings = tuple(map(lambda x: str(x), numbers))\n",
    "\n",
    "        print(strings)"
   ]
  },
  {
   "cell_type": "code",
   "execution_count": null,
   "id": "795f5901-bb2f-471a-bebb-f73076635120",
   "metadata": {},
   "outputs": [],
   "source": [
    "Q4. Write a python program using reduce function to compute the product of a list containing numbers\n",
    "from 1 to 25.\n",
    "Ans-\n",
    "    from functools import reduce\n",
    "\n",
    "     numbers = range(1, 26)\n",
    "\n",
    "    product = reduce(lambda x, y: x * y, numbers)\n",
    "\n",
    "     print(product)"
   ]
  },
  {
   "cell_type": "code",
   "execution_count": null,
   "id": "e9b6180b-9479-456f-b2b8-08603425198c",
   "metadata": {},
   "outputs": [],
   "source": [
    "\n",
    "Q5. Write a python program to filter the numbers in a given list that are divisible by 2 and 3 using the\n",
    "filter function.\n",
    "[2, 3, 6, 9, 27, 60, 90, 120, 55, 46]\n",
    "Ans-\n",
    "     numbers = [2, 3, 6, 9, 27, 60, 90, 120, 55, 46]\n",
    "\n",
    "     filtered_numbers = list(filter(lambda x: x % 2 == 0 and x % 3 == 0, numbers))\n",
    "\n",
    "      print(filtered_numbers)\n"
   ]
  },
  {
   "cell_type": "code",
   "execution_count": null,
   "id": "96947ab5-efb3-4acc-9d85-3675787f1e07",
   "metadata": {},
   "outputs": [],
   "source": [
    "\n",
    "\n",
    "Q6. Write a python program to find palindromes in the given list of strings using lambda and filter\n",
    "function.\n",
    "['python', 'php', 'aba', 'radar', 'level']\n",
    "Ans-\n",
    "     strings = ['python', 'php', 'aba', 'radar', 'level']\n",
    "\n",
    "      palindromes = list(filter(lambda x: x == x[::-1], strings))\n",
    "\n",
    "        print(palindromes)"
   ]
  }
 ],
 "metadata": {
  "kernelspec": {
   "display_name": "Python 3 (ipykernel)",
   "language": "python",
   "name": "python3"
  },
  "language_info": {
   "codemirror_mode": {
    "name": "ipython",
    "version": 3
   },
   "file_extension": ".py",
   "mimetype": "text/x-python",
   "name": "python",
   "nbconvert_exporter": "python",
   "pygments_lexer": "ipython3",
   "version": "3.10.8"
  }
 },
 "nbformat": 4,
 "nbformat_minor": 5
}
